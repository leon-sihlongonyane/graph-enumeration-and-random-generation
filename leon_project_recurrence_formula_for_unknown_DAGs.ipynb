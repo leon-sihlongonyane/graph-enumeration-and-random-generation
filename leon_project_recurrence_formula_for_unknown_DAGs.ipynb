{
 "cells": [
  {
   "cell_type": "code",
   "execution_count": 36,
   "id": "regional-asian",
   "metadata": {},
   "outputs": [],
   "source": [
    "import numpy as np  \n",
    "from sympy import Function, rsolve"
   ]
  },
  {
   "cell_type": "markdown",
   "id": "encouraging-liberty",
   "metadata": {},
   "source": [
    "### Counting Directed Acyclic Graphs with n nodes"
   ]
  },
  {
   "cell_type": "code",
   "execution_count": 43,
   "id": "renewable-falls",
   "metadata": {},
   "outputs": [
    {
     "data": {
      "text/plain": [
       "[1, 3, 25, 543, 29281, 3781503]"
      ]
     },
     "execution_count": 43,
     "metadata": {},
     "output_type": "execute_result"
    }
   ],
   "source": [
    "#simple Directed Acyclic Graphs\n",
    "\n",
    "def sDAG(n):\n",
    "    \"\"\"\n",
    "    Returns the number of simple Directed Acyclic graph of node n.\n",
    "    \"\"\"\n",
    "    if(n == 0):\n",
    "        result = 1\n",
    "    elif(n == 1):\n",
    "        result = 1\n",
    "    else:\n",
    "        result = add(2^(k*(n-k))*pow(-1,k+1)*binomial(n,k) *sDAG(n-k) for k in [1..n])\n",
    "    return result\n",
    "\n",
    "#create list\n",
    "\n",
    "daglist=lambda num:[sDAG(j) for j in [1..num]]\n",
    "\n",
    "#check for node 1,2,3,...,10\n",
    "\n",
    "daglist(6)  #simple DAGs"
   ]
  },
  {
   "cell_type": "markdown",
   "id": "isolated-validity",
   "metadata": {},
   "source": [
    "### Modification 1 (Claim)"
   ]
  },
  {
   "cell_type": "code",
   "execution_count": 44,
   "id": "advanced-animal",
   "metadata": {},
   "outputs": [
    {
     "data": {
      "text/plain": [
       "[1, 2, 15, 316, 16885, 2174586]"
      ]
     },
     "execution_count": 44,
     "metadata": {},
     "output_type": "execute_result"
    }
   ],
   "source": [
    "# with binomial(p-m,0) , r=0; counting by 1 sink.\n",
    "\n",
    "def sinkDAG(p):\n",
    "    \"\"\"\n",
    "    Returns the number of Directed Acyclic graph of type 1 sink.\n",
    "    \"\"\"\n",
    "    if(p == 0):\n",
    "        results = 1\n",
    "    elif(p == 1):\n",
    "        results = 1\n",
    "    else:\n",
    "        results = add(((2^(p-m)-binomial(p-m,0))^m)*pow(-1,m-1)*binomial(p,m)*sinkDAG(p-m) for m in [1..p])\n",
    "    return results\n",
    "\n",
    "#create list \n",
    "\n",
    "sinkdaglist=lambda num1:[sinkDAG(i) for i in [1..num1]] \n",
    "\n",
    "#check for node 1,2,3,...,6\n",
    "\n",
    "sinkdaglist(6) #known sequence : DAGs by 1 sink"
   ]
  },
  {
   "cell_type": "markdown",
   "id": "conceptual-budapest",
   "metadata": {},
   "source": [
    "### Modification 2 (Proposition 3.3.1)"
   ]
  },
  {
   "cell_type": "code",
   "execution_count": 45,
   "id": "coated-chorus",
   "metadata": {},
   "outputs": [
    {
     "data": {
      "text/plain": [
       "[1, 2, 12, 216, 10600, 1306620]"
      ]
     },
     "execution_count": 45,
     "metadata": {},
     "output_type": "execute_result"
    }
   ],
   "source": [
    "# Counting sequence for DAGs of type 1 sink and 1 source.\n",
    "\n",
    "def sink_source_DAG(p):\n",
    "    \"\"\"\n",
    "    Returns the number of DAGs of type 1 sink and 1 source over node n.\n",
    "    \"\"\"\n",
    "    if(p == 0):\n",
    "        results = 1\n",
    "    elif(p == 1):\n",
    "        results = 1\n",
    "    else:\n",
    "        results = add(m*((2^(p-m)-binomial(p-m,0))^m)*pow(-1,m-1)*binomial(p,m)*sinkDAG(p-m) for m in [1..p])\n",
    "    return results\n",
    "\n",
    "#create list \n",
    "\n",
    "sinksourcedaglist=lambda num1:[sink_source_DAG(i) for i in [1..num1]] \n",
    "\n",
    "#check for node 1,2,3,...,6\n",
    "\n",
    "sinksourcedaglist(6) #known sequence : 1 sink and 1 source DAGs"
   ]
  },
  {
   "cell_type": "markdown",
   "id": "typical-ferry",
   "metadata": {},
   "source": [
    "### Modification 3 (Essential DAGs)"
   ]
  },
  {
   "cell_type": "code",
   "execution_count": 46,
   "id": "going-american",
   "metadata": {},
   "outputs": [
    {
     "data": {
      "text/plain": [
       "[1, 1, 4, 59, 2616, 306117]"
      ]
     },
     "execution_count": 46,
     "metadata": {},
     "output_type": "execute_result"
    }
   ],
   "source": [
    "# with binomial(p-m,1) , r=1\n",
    "\n",
    "def essentialDAG(p):\n",
    "    \"\"\"\n",
    "    Returns the number of Essential Directed Acyclic graph of node n.\n",
    "    \"\"\"\n",
    "    if(p == 0):\n",
    "        results = 1\n",
    "    elif(p == 1):\n",
    "        results = 1\n",
    "    else:\n",
    "        results = add(((2^(p-m)-binomial(p-m,1))^m)*pow(-1,m-1)*binomial(p,m)*essentialDAG(p-m) for m in [1..p])\n",
    "    return results\n",
    "\n",
    "#create list \n",
    "\n",
    "essentialdaglist=lambda num1:[essentialDAG(i) for i in [1..num1]] \n",
    "\n",
    "#check for node 1,2,3,...,6\n",
    "\n",
    "essentialdaglist(6) #known sequence : essential DAG"
   ]
  },
  {
   "cell_type": "markdown",
   "id": "unexpected-support",
   "metadata": {},
   "source": [
    "### Modification 4 (Unknown Sequence)"
   ]
  },
  {
   "cell_type": "code",
   "execution_count": 47,
   "id": "coated-opposition",
   "metadata": {},
   "outputs": [
    {
     "data": {
      "text/plain": [
       "[1, 3, 16, 189, 6181, 568938]"
      ]
     },
     "execution_count": 47,
     "metadata": {},
     "output_type": "execute_result"
    }
   ],
   "source": [
    "# with binomial(p-m,2) , r=2\n",
    "\n",
    "def newDAG(p):\n",
    "    \"\"\"\n",
    "    Returns the number of Directed Acyclic graph of node n with unknown property?\n",
    "    \"\"\"\n",
    "    if(p == 0):\n",
    "        results = 1\n",
    "    elif(p == 1):\n",
    "        results = 1\n",
    "    else:\n",
    "        results = add(((2^(p-m)-binomial(p-m,2))^m)*pow(-1,m-1)*binomial(p,m)*newDAG(p-m) for m in [1..p])\n",
    "    return results\n",
    "\n",
    "#create list \n",
    "\n",
    "newdaglist=lambda num1:[newDAG(i) for i in [1..num1]] \n",
    "\n",
    "#check for node 1,2,3,...,6\n",
    "\n",
    "newdaglist(6) #new sequence 1"
   ]
  },
  {
   "cell_type": "markdown",
   "id": "sixth-yield",
   "metadata": {},
   "source": [
    "### Modification 5 (Unknown sequence)"
   ]
  },
  {
   "cell_type": "code",
   "execution_count": 48,
   "id": "written-writer",
   "metadata": {},
   "outputs": [
    {
     "data": {
      "text/plain": [
       "[1, 2, 21, 136, 905, 188646]"
      ]
     },
     "execution_count": 48,
     "metadata": {},
     "output_type": "execute_result"
    }
   ],
   "source": [
    "# Combining with modification 4, sample approach as Proposition 3.3.1, result in following enumeration formula.\n",
    "def FinalNewDAG(v):\n",
    "    \"\"\"\n",
    "   Returns the number of Directed Acyclic graph of node n with unknown property?\n",
    "    \"\"\"\n",
    "    if(v == 0):\n",
    "        res = 1\n",
    "    elif(v == 1):\n",
    "        res= 1\n",
    "    else:\n",
    "        res= add((r*(2^(v-r)-1)^r)*pow(-1,r-1)*binomial(v,r)*newDAG(v-r) for r in [1..v])\n",
    "    return res\n",
    "\n",
    "#create list\n",
    "\n",
    "final_new_daglist=lambda num2:[FinalNewDAG(l) for l in [1..num2]]\n",
    "\n",
    "#check for node 1,2,3,...,6\n",
    "\n",
    "final_new_daglist(6) #new sequence 2\n"
   ]
  },
  {
   "cell_type": "markdown",
   "id": "julian-framework",
   "metadata": {},
   "source": [
    "##=============================================END=================================================================##"
   ]
  },
  {
   "cell_type": "code",
   "execution_count": null,
   "id": "bulgarian-relation",
   "metadata": {},
   "outputs": [],
   "source": []
  }
 ],
 "metadata": {
  "kernelspec": {
   "display_name": "SageMath 9.2",
   "language": "sage",
   "name": "sagemath"
  },
  "language_info": {
   "codemirror_mode": {
    "name": "ipython",
    "version": 3
   },
   "file_extension": ".py",
   "mimetype": "text/x-python",
   "name": "python",
   "nbconvert_exporter": "python",
   "pygments_lexer": "ipython3",
   "version": "3.9.2"
  }
 },
 "nbformat": 4,
 "nbformat_minor": 5
}
